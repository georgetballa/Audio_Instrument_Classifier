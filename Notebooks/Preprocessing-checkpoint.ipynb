{
 "cells": [
  {
   "cell_type": "code",
   "execution_count": 1,
   "metadata": {},
   "outputs": [],
   "source": [
    "import numpy as np\n",
    "import librosa\n",
    "from librosa import display\n",
    "from scipy.io import wavfile\n",
    "import IPython.display as display\n",
    "import os\n",
    "from PIL import Image\n",
    "import pathlib\n",
    "import csv\n",
    "import warnings\n",
    "import matplotlib.pyplot as plt\n",
    "import os \n",
    "import shutil\n",
    "warnings.filterwarnings('ignore')"
   ]
  },
  {
   "cell_type": "code",
   "execution_count": 15,
   "metadata": {
    "jupyter": {
     "source_hidden": true
    }
   },
   "outputs": [
    {
     "ename": "SyntaxError",
     "evalue": "invalid syntax (<ipython-input-15-70343c6e1e6e>, line 4)",
     "output_type": "error",
     "traceback": [
      "\u001b[0;36m  File \u001b[0;32m\"<ipython-input-15-70343c6e1e6e>\"\u001b[0;36m, line \u001b[0;32m4\u001b[0m\n\u001b[0;31m    home/george/Desktop/Audio(Classifier/data/nsynth-train/audio/)\u001b[0m\n\u001b[0m                                                                 ^\u001b[0m\n\u001b[0;31mSyntaxError\u001b[0m\u001b[0;31m:\u001b[0m invalid syntax\n"
     ]
    }
   ],
   "source": [
    "# Directories\n",
    "\n",
    "# WAV FILES :\n",
    "/home/george/Desktop/Audio_Classifier/data/nsynth-train/audio/\n",
    "\n",
    "#Spectrograms\n",
    "/home/george/Desktop/Audio_Classifier/data/spectrograms/\n",
    "\n",
    "#Wavs in seperate instrument folders\n",
    "/home/george/Desktop/Audio_Classifier/data/instrument_wavs/"
   ]
  },
  {
   "cell_type": "code",
   "execution_count": 5,
   "metadata": {},
   "outputs": [],
   "source": [
    "A = np.zeros((1,66151))\n",
    "def add_instrument(instrument, limit, arr):\n",
    "    j = 0\n",
    "    \n",
    "    '''Creates Spectrograms for New Instrument Classification from WAV Files'''\n",
    "    \n",
    "    i = instrument\n",
    "    pathlib.Path(f'/data/instrument_wavs/val/{i}').mkdir(parents=True, exist_ok=True)\n",
    "    dest = f'/data/instrument_wavs/val/{i}'\n",
    "    for dirpath, dirnames, filenames in os.walk(r'/data/nsynth-valid/audio/'):\n",
    "        for filename in filenames:\n",
    "            if i in filename:\n",
    "                shutil.move(dirpath + filename, dest)\n",
    "\n",
    "    pathlib.Path(f'/home/george/Desktop/Audio_Classifier/data/spectrograms/val_set/{i}').mkdir(parents=True, exist_ok=True)\n",
    "    \n",
    "    for filename in os.listdir(f'/data/instrument_wavs/val/{i}'):\n",
    "        if j < limit:\n",
    "            j += 1\n",
    "            soundfile = f'/data/instrument_wavs/va/{i}/{filename}'\n",
    "            y, sr = librosa.load(soundfile, mono=True, duration=3)\n",
    "            plt.figure(figsize=(10, 4))\n",
    "            S = librosa.feature.melspectrogram(y=y, sr=sr, n_mels=128,fmax=10000)\n",
    "            librosa.display.specshow(librosa.power_to_db(S,ref=np.max),fmax=10000)\n",
    "            plt.tight_layout()\n",
    "            plt.axis('off');\n",
    "            plt.savefig(f'/home/george/Desktop/Audio_Classifier/data/spectrograms/val_set/{i}/{filename[:-3].replace(\".\", \"\")}.png',pad_inches = 0,bbox_inches='tight', transparent=True)\n",
    "            plt.clf()\n",
    "        else:\n",
    "            continue\n",
    "    return\n",
    "    print(f'finished{i}')"
   ]
  },
  {
   "cell_type": "code",
   "execution_count": null,
   "metadata": {},
   "outputs": [],
   "source": [
    "def convert_to_spectrogram(filename):\n",
    "     y, sr = librosa.load(soundfile, mono=True, duration=3)\n",
    "        plt.figure(figsize=(10, 4))\n",
    "        S = librosa.feature.melspectrogram(y=y, sr=sr, n_mels=128,fmax=10000)\n",
    "#             g = np.append(y, i)\n",
    "#             g = g.reshape(1,-1)\n",
    "#             arr = np.append(arr,g,axis=0)\n",
    "        librosa.display.specshow(librosa.power_to_db(S,ref=np.max),fmax=10000)\n",
    "        plt.tight_layout()\n",
    "        plt.axis('off');\n",
    "        plt.savefig(f'/home/george/Desktop/Audio_Classifier/data/spectrograms/val_set/{i}/{filename[:-3].replace(\".\", \"\")}.png',pad_inches = 0,bbox_inches='tight', transparent=True)\n",
    "        plt.clf()"
   ]
  },
  {
   "cell_type": "code",
   "execution_count": 3,
   "metadata": {},
   "outputs": [
    {
     "data": {
      "text/plain": [
       "22"
      ]
     },
     "execution_count": 3,
     "metadata": {},
     "output_type": "execute_result"
    }
   ],
   "source": [
    "import gc\n",
    "gc.collect()"
   ]
  },
  {
   "cell_type": "code",
   "execution_count": 73,
   "metadata": {},
   "outputs": [],
   "source": [
    "A = A[1:]"
   ]
  },
  {
   "cell_type": "code",
   "execution_count": 6,
   "metadata": {},
   "outputs": [
    {
     "data": {
      "text/plain": [
       "(1, 66151)"
      ]
     },
     "execution_count": 6,
     "metadata": {},
     "output_type": "execute_result"
    }
   ],
   "source": [
    "A.shape"
   ]
  },
  {
   "cell_type": "code",
   "execution_count": null,
   "metadata": {},
   "outputs": [],
   "source": [
    "# add_instrument('keyboard', 5000, A)\n",
    "# add_instrument('mallet',  5000, A)\n",
    "# A = add_instrument('organ',  5000, A) \n",
    "# A = add_instrument('synth_lead', 5000, A)\n",
    "# A = add_instrument('string',  5000, A)\n",
    "# A = add_instrument('reed',  5000, A)\n",
    "# A = add_instrument('guitar',  5000, A)\n",
    "# A = add_instrument('brass',  5000, A)\n",
    "# A = add_instrument('bass', 5000, A)\n",
    "A = add_instrument('vocal',  5000, A)\n",
    "A = add_instrument('flute',  5000, A)\n"
   ]
  },
  {
   "cell_type": "code",
   "execution_count": null,
   "metadata": {},
   "outputs": [],
   "source": []
  }
 ],
 "metadata": {
  "kernelspec": {
   "display_name": "Python 3",
   "language": "python",
   "name": "python3"
  },
  "language_info": {
   "codemirror_mode": {
    "name": "ipython",
    "version": 3
   },
   "file_extension": ".py",
   "mimetype": "text/x-python",
   "name": "python",
   "nbconvert_exporter": "python",
   "pygments_lexer": "ipython3",
   "version": "3.7.7"
  }
 },
 "nbformat": 4,
 "nbformat_minor": 4
}
